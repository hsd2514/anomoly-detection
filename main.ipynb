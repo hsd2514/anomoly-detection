{
 "cells": [
  {
   "cell_type": "markdown",
   "metadata": {},
   "source": [
    "# Intoduction To Problem\n",
    "\n",
    "\n",
    "### Aim : To predict the failure of temperature sensors based on historical data and operational metrics, to inform preventive maintenance strategies and reduce downtime.\n",
    "\n",
    "### Tools:\n",
    "- Python (with libraries such as Pandas, NumPy, Matplotlib, Seaborn, and Scikit-learn for data manipulation and analysis).\n",
    "- Time series analysis techniques (e.g., ARIMA, SARIMA) for failure forecasting.\n",
    "- Machine learning models (e.g., Random Forest, XGBoost) for predictive maintenance.\n",
    "- Evaluation metrics (e.g., accuracy, precision, recall, F1 score) to assess model performance.\n",
    "- Data visualization techniques (e.g., line plots, scatter plots, heatmaps) to explore patterns and trends in the data.\n",
    "- anomoaly detection techniques (e.g., Isolation Forest, One-Class SVM) to identify outliers and anomalies in the data.\n"
   ]
  },
  {
   "cell_type": "code",
   "execution_count": 1,
   "metadata": {},
   "outputs": [],
   "source": [
    "import pandas as pd"
   ]
  },
  {
   "cell_type": "code",
   "execution_count": 2,
   "metadata": {},
   "outputs": [],
   "source": [
    "df=pd.read_csv(\"sensor-fault-detection.csv\")"
   ]
  },
  {
   "cell_type": "markdown",
   "metadata": {},
   "source": [
    "# Methodology\n",
    "\n",
    "1. Data Collection\n",
    "2. Data Preprocessing\n",
    "3. Exploratory Data Analysis\n",
    "4. Model Development\n",
    "5. Anomaly Detection\n"
   ]
  },
  {
   "cell_type": "markdown",
   "metadata": {},
   "source": [
    "### How to detect anomalies in the data?\n",
    "- Anomaly detection is the process of identifying outliers or anomalies in a dataset that deviate significantly from the norm or expected behavior.\n",
    "- Anomalies can be detected using statistical methods, machine learning models, or domain-specific knowledge.\n",
    "- Common techniques for anomaly detection include Isolation Forest, One-Class SVM, and Autoencoders.\n",
    "- Anomalies can be visualized using scatter plots, heatmaps, or other data visualization techniques.\n",
    "- Anomaly detection can help identify potential failures or issues in the data that may require further investigation or preventive maintenance."
   ]
  },
  {
   "cell_type": "markdown",
   "metadata": {},
   "source": [
    "### Data Collection"
   ]
  },
  {
   "cell_type": "code",
   "execution_count": 4,
   "metadata": {},
   "outputs": [],
   "source": [
    "df=pd.read_csv(\"sensor-fault-detection.csv\")"
   ]
  },
  {
   "cell_type": "markdown",
   "metadata": {},
   "source": [
    "### Data Preprocessing"
   ]
  },
  {
   "cell_type": "code",
   "execution_count": 16,
   "metadata": {},
   "outputs": [
    {
     "name": "stdout",
     "output_type": "stream",
     "text": [
      "<class 'pandas.core.frame.DataFrame'>\n",
      "RangeIndex: 62629 entries, 0 to 62628\n",
      "Data columns (total 3 columns):\n",
      " #   Column     Non-Null Count  Dtype  \n",
      "---  ------     --------------  -----  \n",
      " 0   Timestamp  62629 non-null  object \n",
      " 1   SensorId   62629 non-null  int64  \n",
      " 2   Value      62629 non-null  float64\n",
      "dtypes: float64(1), int64(1), object(1)\n",
      "memory usage: 1.4+ MB\n"
     ]
    }
   ],
   "source": [
    "df=pd.read_csv(\"sensor-fault-detection.csv\",sep=\";\")\n",
    "df.info()"
   ]
  },
  {
   "cell_type": "code",
   "execution_count": 17,
   "metadata": {},
   "outputs": [],
   "source": [
    "df = pd.read_csv(\"sensor-fault-detection.csv\", sep=\";\", parse_dates=[\"Timestamp\"])"
   ]
  },
  {
   "cell_type": "code",
   "execution_count": 18,
   "metadata": {},
   "outputs": [
    {
     "data": {
      "text/html": [
       "<div>\n",
       "<style scoped>\n",
       "    .dataframe tbody tr th:only-of-type {\n",
       "        vertical-align: middle;\n",
       "    }\n",
       "\n",
       "    .dataframe tbody tr th {\n",
       "        vertical-align: top;\n",
       "    }\n",
       "\n",
       "    .dataframe thead th {\n",
       "        text-align: right;\n",
       "    }\n",
       "</style>\n",
       "<table border=\"1\" class=\"dataframe\">\n",
       "  <thead>\n",
       "    <tr style=\"text-align: right;\">\n",
       "      <th></th>\n",
       "      <th>Timestamp</th>\n",
       "      <th>SensorId</th>\n",
       "      <th>Value</th>\n",
       "    </tr>\n",
       "  </thead>\n",
       "  <tbody>\n",
       "    <tr>\n",
       "      <th>0</th>\n",
       "      <td>2017-03-01 23:20:00+03:00</td>\n",
       "      <td>1</td>\n",
       "      <td>18.479807</td>\n",
       "    </tr>\n",
       "    <tr>\n",
       "      <th>1</th>\n",
       "      <td>2017-03-02 04:00:00+03:00</td>\n",
       "      <td>1</td>\n",
       "      <td>19.539112</td>\n",
       "    </tr>\n",
       "    <tr>\n",
       "      <th>2</th>\n",
       "      <td>2017-03-23 06:25:00+03:00</td>\n",
       "      <td>1</td>\n",
       "      <td>19.250198</td>\n",
       "    </tr>\n",
       "    <tr>\n",
       "      <th>3</th>\n",
       "      <td>2017-03-23 19:35:00+03:00</td>\n",
       "      <td>1</td>\n",
       "      <td>18.961285</td>\n",
       "    </tr>\n",
       "    <tr>\n",
       "      <th>4</th>\n",
       "      <td>2017-04-04 15:10:00+03:00</td>\n",
       "      <td>1</td>\n",
       "      <td>25.321623</td>\n",
       "    </tr>\n",
       "    <tr>\n",
       "      <th>...</th>\n",
       "      <td>...</td>\n",
       "      <td>...</td>\n",
       "      <td>...</td>\n",
       "    </tr>\n",
       "    <tr>\n",
       "      <th>62624</th>\n",
       "      <td>2017-05-05 17:00:00+03:00</td>\n",
       "      <td>1</td>\n",
       "      <td>24.743029</td>\n",
       "    </tr>\n",
       "    <tr>\n",
       "      <th>62625</th>\n",
       "      <td>2017-07-07 16:40:00+03:00</td>\n",
       "      <td>1</td>\n",
       "      <td>31.787771</td>\n",
       "    </tr>\n",
       "    <tr>\n",
       "      <th>62626</th>\n",
       "      <td>2017-05-07 09:20:00+03:00</td>\n",
       "      <td>1</td>\n",
       "      <td>26.382582</td>\n",
       "    </tr>\n",
       "    <tr>\n",
       "      <th>62627</th>\n",
       "      <td>2017-05-07 14:55:00+03:00</td>\n",
       "      <td>1</td>\n",
       "      <td>26.286133</td>\n",
       "    </tr>\n",
       "    <tr>\n",
       "      <th>62628</th>\n",
       "      <td>2017-05-07 20:40:00+03:00</td>\n",
       "      <td>1</td>\n",
       "      <td>26.671986</td>\n",
       "    </tr>\n",
       "  </tbody>\n",
       "</table>\n",
       "<p>62629 rows × 3 columns</p>\n",
       "</div>"
      ],
      "text/plain": [
       "                      Timestamp  SensorId      Value\n",
       "0     2017-03-01 23:20:00+03:00         1  18.479807\n",
       "1     2017-03-02 04:00:00+03:00         1  19.539112\n",
       "2     2017-03-23 06:25:00+03:00         1  19.250198\n",
       "3     2017-03-23 19:35:00+03:00         1  18.961285\n",
       "4     2017-04-04 15:10:00+03:00         1  25.321623\n",
       "...                         ...       ...        ...\n",
       "62624 2017-05-05 17:00:00+03:00         1  24.743029\n",
       "62625 2017-07-07 16:40:00+03:00         1  31.787771\n",
       "62626 2017-05-07 09:20:00+03:00         1  26.382582\n",
       "62627 2017-05-07 14:55:00+03:00         1  26.286133\n",
       "62628 2017-05-07 20:40:00+03:00         1  26.671986\n",
       "\n",
       "[62629 rows x 3 columns]"
      ]
     },
     "execution_count": 18,
     "metadata": {},
     "output_type": "execute_result"
    }
   ],
   "source": [
    "df"
   ]
  },
  {
   "cell_type": "code",
   "execution_count": 19,
   "metadata": {},
   "outputs": [
    {
     "name": "stdout",
     "output_type": "stream",
     "text": [
      "<class 'pandas.core.frame.DataFrame'>\n",
      "RangeIndex: 62629 entries, 0 to 62628\n",
      "Data columns (total 3 columns):\n",
      " #   Column     Non-Null Count  Dtype                    \n",
      "---  ------     --------------  -----                    \n",
      " 0   Timestamp  62629 non-null  datetime64[ns, UTC+03:00]\n",
      " 1   SensorId   62629 non-null  int64                    \n",
      " 2   Value      62629 non-null  float64                  \n",
      "dtypes: datetime64[ns, UTC+03:00](1), float64(1), int64(1)\n",
      "memory usage: 1.4 MB\n"
     ]
    }
   ],
   "source": [
    "df.info()"
   ]
  },
  {
   "cell_type": "code",
   "execution_count": 20,
   "metadata": {},
   "outputs": [
    {
     "data": {
      "text/plain": [
       "Timestamp    0\n",
       "SensorId     0\n",
       "Value        0\n",
       "dtype: int64"
      ]
     },
     "execution_count": 20,
     "metadata": {},
     "output_type": "execute_result"
    }
   ],
   "source": [
    "df.isna().sum()"
   ]
  },
  {
   "cell_type": "code",
   "execution_count": 23,
   "metadata": {},
   "outputs": [
    {
     "data": {
      "text/plain": [
       "<Axes: xlabel='Timestamp'>"
      ]
     },
     "execution_count": 23,
     "metadata": {},
     "output_type": "execute_result"
    },
    {
     "data": {
      "image/png": "[encoded data removed]",
      "text/plain": [
       "<Figure size 1200x600 with 1 Axes>"
      ]
     },
     "metadata": {},
     "output_type": "display_data"
    }
   ],
   "source": [
    "#plotting the data to see the trend of the data over time\n",
    "import matplotlib.pyplot as plt\n",
    "df.plot(x=\"Timestamp\", y=\"Value\", figsize=(12,6))\n"
   ]
  },
  {
   "cell_type": "code",
   "execution_count": 25,
   "metadata": {},
   "outputs": [
    {
     "ename": "SyntaxError",
     "evalue": "closing parenthesis ']' does not match opening parenthesis '(' (3492849991.py, line 1)",
     "output_type": "error",
     "traceback": [
      "\u001b[1;36m  Cell \u001b[1;32mIn[25], line 1\u001b[1;36m\u001b[0m\n\u001b[1;33m    plt.bar(x=\"df[\"Value]\")\u001b[0m\n\u001b[1;37m                        ^\u001b[0m\n\u001b[1;31mSyntaxError\u001b[0m\u001b[1;31m:\u001b[0m closing parenthesis ']' does not match opening parenthesis '('\n"
     ]
    }
   ],
   "source": [
    "plt.bar(x=\"df[\"Value]\")"
   ]
  },
  {
   "cell_type": "code",
   "execution_count": null,
   "metadata": {},
   "outputs": [],
   "source": []
  }
 ],
 "metadata": {
  "kernelspec": {
   "display_name": ".venv",
   "language": "python",
   "name": "python3"
  },
  "language_info": {
   "codemirror_mode": {
    "name": "ipython",
    "version": 3
   },
   "file_extension": ".py",
   "mimetype": "text/x-python",
   "name": "python",
   "nbconvert_exporter": "python",
   "pygments_lexer": "ipython3",
   "version": "3.11.5"
  }
 },
 "nbformat": 4,
 "nbformat_minor": 2
}
